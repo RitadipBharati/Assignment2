{
 "cells": [
  {
   "cell_type": "code",
   "execution_count": 1,
   "metadata": {},
   "outputs": [
    {
     "name": "stdout",
     "output_type": "stream",
     "text": [
      "importing Jupyter notebook from A.ipynb\n",
      "importing Jupyter notebook from B.ipynb\n",
      "importing Jupyter notebook from D.ipynb\n",
      "importing Jupyter notebook from E.ipynb\n"
     ]
    }
   ],
   "source": [
    "import import_ipynb              #importing other files where I saved matrices\n",
    "from A import *\n",
    "from B import *\n",
    "from D import *\n",
    "from E import *"
   ]
  },
  {
   "cell_type": "code",
   "execution_count": 2,
   "metadata": {},
   "outputs": [
    {
     "name": "stdout",
     "output_type": "stream",
     "text": [
      "The matrix is \n",
      "[1, 6, 3]\n",
      "[5, 7, 5]\n",
      "[2, 4, 9]\n",
      "The matrix is \n",
      "[5, 4, 6]\n",
      "[7, 6, 9]\n",
      "[2, 3, 2]\n",
      "The matrix is \n",
      "[8]\n",
      "[3]\n",
      "[2]\n",
      "The matrix is \n",
      "[3]\n",
      "[9]\n",
      "[8]\n"
     ]
    }
   ],
   "source": [
    "def Display(k):#creating function for displaying matrix(It Shows every row with , delimiter)\n",
    "    if k is not None:          #checking if input is None\n",
    "        print(\"The matrix is \") \n",
    "        for m in range(len(k)):\n",
    "            print(k[m])\n",
    "        \n",
    "Display(A)\n",
    "Display(B)\n",
    "Display(C)\n",
    "Display(D)"
   ]
  },
  {
   "cell_type": "code",
   "execution_count": 3,
   "metadata": {},
   "outputs": [
    {
     "name": "stdout",
     "output_type": "stream",
     "text": [
      "67\n",
      "The inputs are not vectors.\n"
     ]
    }
   ],
   "source": [
    "def DOT(a,b):                           #a function for dot product. It gies the scalar number/\n",
    "    s=0\n",
    "    if len(a[0])==1 and len(b[0])==1:    #We can only do dot product of two vectors. It checks that.\n",
    "        for i in range(len(a)):\n",
    "            v=a[i][0]*b[i][0]\n",
    "            s=s+v\n",
    "        print(s)\n",
    "    else:\n",
    "        print(\"The inputs are not vectors.\")\n",
    "DOT(C,D)\n",
    "DOT(A,C)"
   ]
  },
  {
   "cell_type": "code",
   "execution_count": 4,
   "metadata": {},
   "outputs": [
    {
     "name": "stdout",
     "output_type": "stream",
     "text": [
      "The matrix is \n",
      "[1, 5, 2]\n",
      "[6, 7, 4]\n",
      "[3, 5, 9]\n",
      "The matrix is \n",
      "[8, 3, 2]\n"
     ]
    }
   ],
   "source": [
    "def Transpose(a):                      # a function for creating transpose of a matrix or vector\n",
    "    l=[]\n",
    "    for i in range(len(a[0])):\n",
    "        l.append([])\n",
    "        for j in range(len(a)):\n",
    "            l[i].append(0)\n",
    "    for m in range(len(a)):\n",
    "        for n in range(len(a[0])):\n",
    "            l[n][m]=a[m][n]\n",
    "    return(l)\n",
    "Display(Transpose(A))\n",
    "Display(Transpose(C))"
   ]
  },
  {
   "cell_type": "code",
   "execution_count": 5,
   "metadata": {},
   "outputs": [
    {
     "name": "stdout",
     "output_type": "stream",
     "text": [
      "The matrix is \n",
      "[53, 49, 66]\n",
      "[84, 77, 103]\n",
      "[56, 59, 66]\n"
     ]
    }
   ],
   "source": [
    "def MATMULT(a,b):                     #function for matrix multiplication \n",
    "    M=[]\n",
    "    if len(b)==len(a[0]):              #check if the input matrices are matrix multiplicable or not.\n",
    "        for m in range(len(a)):\n",
    "            M.append([])\n",
    "            for n in range(len(b[0])):\n",
    "                M[m].append(0)\n",
    "        for i in range(len(a)):\n",
    "            for j in range(len(b[0])):\n",
    "                for k in range(len(b)):\n",
    "                    M[i][j] += a[i][k] * b[k][j]\n",
    "        return(M)\n",
    "    else:\n",
    "        print(\"Inputs are dimentionally incorrect.\")\n",
    "        return\n",
    "Display(MATMULT(A,B))"
   ]
  },
  {
   "cell_type": "code",
   "execution_count": 6,
   "metadata": {},
   "outputs": [
    {
     "name": "stdout",
     "output_type": "stream",
     "text": [
      "Inputs are dimentionally incorrect.\n"
     ]
    }
   ],
   "source": [
    "Display(MATMULT(C,A))    #we can't matrix multiply C and A cause they are dimentionally not multipliable."
   ]
  },
  {
   "cell_type": "code",
   "execution_count": 7,
   "metadata": {},
   "outputs": [
    {
     "name": "stdout",
     "output_type": "stream",
     "text": [
      "The matrix is \n",
      "[27, 77, 57]\n"
     ]
    }
   ],
   "source": [
    "Display(MATMULT(Transpose(C),A))   # So, we multiply transpose of C and A."
   ]
  },
  {
   "cell_type": "code",
   "execution_count": 8,
   "metadata": {},
   "outputs": [
    {
     "name": "stdout",
     "output_type": "stream",
     "text": [
      "The matrix is \n",
      "[99]\n",
      "[147]\n",
      "[49]\n"
     ]
    }
   ],
   "source": [
    "Display(MATMULT(B,D))               #multiplying B & D. "
   ]
  },
  {
   "cell_type": "code",
   "execution_count": 9,
   "metadata": {},
   "outputs": [
    {
     "name": "stdout",
     "output_type": "stream",
     "text": [
      "The matrix is \n",
      "[67]\n"
     ]
    }
   ],
   "source": [
    "Display(MATMULT(Transpose(C),D))     #multiplying transpose of C & D. we get the dot product but in form of 1x1 matrix"
   ]
  },
  {
   "cell_type": "code",
   "execution_count": null,
   "metadata": {},
   "outputs": [],
   "source": []
  }
 ],
 "metadata": {
  "kernelspec": {
   "display_name": "Python 3",
   "language": "python",
   "name": "python3"
  },
  "language_info": {
   "codemirror_mode": {
    "name": "ipython",
    "version": 3
   },
   "file_extension": ".py",
   "mimetype": "text/x-python",
   "name": "python",
   "nbconvert_exporter": "python",
   "pygments_lexer": "ipython3",
   "version": "3.7.6"
  }
 },
 "nbformat": 4,
 "nbformat_minor": 4
}
