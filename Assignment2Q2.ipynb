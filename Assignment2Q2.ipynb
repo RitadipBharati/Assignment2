{
 "cells": [
  {
   "cell_type": "code",
   "execution_count": 4,
   "metadata": {},
   "outputs": [],
   "source": [
    "import math"
   ]
  },
  {
   "cell_type": "code",
   "execution_count": 5,
   "metadata": {},
   "outputs": [
    {
     "name": "stdout",
     "output_type": "stream",
     "text": [
      "(5+i6)\n",
      "(5+i6)+(3+i6)=8+i(12)\n",
      "(5+i6)*(2+i3)=-8+i(27)\n",
      "(5+i6)/(1+i1)=5.5+i(-0.5)\n",
      "5+i(-6)\n",
      "The Modulus of (5+i(6)) is 7.810249675906654\n",
      "The Phase angle of (5+i(6)) is 0.8760580505981934 radian.\n"
     ]
    }
   ],
   "source": [
    "#Define your own class / structure myComplex and calculate the sum, productand division of two complex numbers. \n",
    "#Also calculate the conjugate, modulus and phase angle of a complex number.\n",
    "class myComplex:\n",
    "    def __init__(self, R1, I1):     #class takes 2 parameters. These are the real and imaginary part of the- \n",
    "        self.R1 = R1                #-complex munber(C1) over which we want to perform varius operations\n",
    "        self.I1 = I1\n",
    "        print(\"(\"+str(R1)+\"+i\"+str(I1)+\")\")    #print the complex number\n",
    "    def SUM(self,R2,I2):            #takes 2 parameters as real and imaginary part of another complex number(C2)\n",
    "        self.R2=R2\n",
    "        self.I2=I2\n",
    "        Rs = self.R1+R2\n",
    "        Is = self.I1+I2             \n",
    "        print(\"(\"+str(self.R1)+\"+i\"+str(self.I1)+\")+(\"+str(R2)+\"+i\"+str(I2)+\")=\"+str(Rs)+\"+i(\"+str(Is)+\")\")\n",
    "                                                                                                 #printC=C1+C2\n",
    " \n",
    "    def PRODUCT(self,R3,I3):        #takes 2 parameters as real and imaginary part of another complex number(C2)\n",
    "            self.R3= R3\n",
    "            self.I3=I3\n",
    "            Rp= self.R1*R3-self.I1*I3\n",
    "            Ip= self.R1*I3+self.I1*R3\n",
    "            print(\"(\"+str(self.R1)+\"+i\"+str(self.I1)+\")*(\"+str(R3)+\"+i\"+str(I3)+\")=\"+str(Rp)+\"+i(\"+str(Ip)+\")\")\n",
    "                                                                                                 #printC=C1*C2\n",
    "                \n",
    "    def DIVISION(self,R4,I4):       #takes 2 parameters as real and imaginary part of another complex number(C2)\n",
    "        self.R4= R4\n",
    "        self.I4= I4\n",
    "        Rd= (self.R1*R4+self.I1*I4)/((self.R4)**2+(self.I4)**2)\n",
    "        Id= (self.R1*I4-self.I1*R4)/((self.R4)**2+(self.I4)**2)\n",
    "        print(\"(\"+str(self.R1)+\"+i\"+str(self.I1)+\")/(\"+str(R4)+\"+i\"+str(I4)+\")=\"+str(Rd)+\"+i(\"+str(Id)+\")\")\n",
    "                                                                                                 #printC=C1/C2\n",
    "    def CONJUGATE(self):          #print conjugate of C1\n",
    "        Rc= self.R1\n",
    "        Ic= -self.I1\n",
    "        print(str(Rc)+\"+i(\"+str(Ic)+\")\")\n",
    "    def MODULUS(self):            #print modulus of C1 \n",
    "        M=((self.R1)**2+(self.I1**2))**(1/2)\n",
    "        print(\"The Modulus of (\"+str(self.R1)+\"+i(\"+str(self.I1)+\")) is \"+ str(M))\n",
    "    def PHASEANGLE(self):        #print phase angle of C1\n",
    "        A=math.atan(self.I1/self.R1)\n",
    "        print(\"The Phase angle of (\"+str(self.R1)+\"+i(\"+str(self.I1)+\")) is \"+ str(A)+\" radian.\")\n",
    "p= myComplex(5,6)\n",
    "p.SUM(3,6)\n",
    "p.PRODUCT(2,3)\n",
    "p.DIVISION(1,1)\n",
    "p.CONJUGATE()\n",
    "p.MODULUS()\n",
    "p.PHASEANGLE()"
   ]
  },
  {
   "cell_type": "code",
   "execution_count": null,
   "metadata": {},
   "outputs": [],
   "source": []
  }
 ],
 "metadata": {
  "kernelspec": {
   "display_name": "Python 3",
   "language": "python",
   "name": "python3"
  },
  "language_info": {
   "codemirror_mode": {
    "name": "ipython",
    "version": 3
   },
   "file_extension": ".py",
   "mimetype": "text/x-python",
   "name": "python",
   "nbconvert_exporter": "python",
   "pygments_lexer": "ipython3",
   "version": "3.7.6"
  }
 },
 "nbformat": 4,
 "nbformat_minor": 4
}
