{
 "cells": [
  {
   "cell_type": "code",
   "execution_count": 1,
   "metadata": {},
   "outputs": [],
   "source": [
    "#Google which 24 countries played in the last 2019 FIFA women’s World Cup football final and their capital cities.\n",
    "#Write a game of hangman(graphics not needed) to guess the capital cities offering 40% of the word length as (integer)\n",
    "#number of chances for wrong guess.\n",
    "import random                         #importing random number generator to give random questions\n",
    "import pandas as pd                   #importing pandas to read csv file containing names of countries & capitals\n",
    "data = pd.read_csv('Q4.csv')\n",
    "#data.head()\n",
    "#print(data)"
   ]
  },
  {
   "cell_type": "code",
   "execution_count": 2,
   "metadata": {},
   "outputs": [],
   "source": [
    "def Showlist(b):                    #function to show a list(helps to display dashed line showing number of letters.)\n",
    "    s=\" \"\n",
    "    for i in range(len(b)):\n",
    "        s=s+b[i]\n",
    "    print(s)\n"
   ]
  },
  {
   "cell_type": "code",
   "execution_count": 3,
   "metadata": {},
   "outputs": [
    {
     "name": "stdout",
     "output_type": "stream",
     "text": [
      " _ _ _ _ _ _ \n",
      "The capital is a 6 letter word.\n",
      "You have 2.0 chances left.\n",
      "Guess a letter of the capital of UK .\n",
      "(type 'skip' to skip): l\n",
      "Your guess is correct.\n",
      " L_ _ _ _ _ \n",
      "The capital is a 6 letter word.\n",
      "You have 2.0 chances left.\n",
      "Guess a letter of the capital of UK .\n",
      "(type 'skip' to skip): o\n",
      "Your guess is correct.\n",
      " LO_ _ O_ \n",
      "The capital is a 6 letter word.\n",
      "You have 2.0 chances left.\n",
      "Guess a letter of the capital of UK .\n",
      "(type 'skip' to skip): d\n",
      "Your guess is correct.\n",
      " LO_ DO_ \n",
      "The capital is a 6 letter word.\n",
      "You have 2.0 chances left.\n",
      "Guess a letter of the capital of UK .\n",
      "(type 'skip' to skip): n\n",
      "Your guess is correct.\n",
      "Hurray!! You have won.\n",
      "The right answer is LONDON.\n"
     ]
    }
   ],
   "source": [
    "def hangman():\n",
    "    a=random.randint(0,26)          \n",
    "    c1= data[\"COUNTRY\"][a]           #data load for question\n",
    "    c2=data[\"CAPITAL\"][a]\n",
    "    C2=[char for char in c2]\n",
    "    g1=[]\n",
    "    #print(c1)\n",
    "    #print(C2)\n",
    "    for i in range(len(c2)):          #creating dashed line\n",
    "        g1.append(\"_ \")\n",
    "    chance= round(0.4*len(c2),0)      #determining chance number\n",
    "    #print(chance)\n",
    "    while chance>0:\n",
    "        Showlist(g1)                  #displaying dashed line\n",
    "        print(\"The capital is a \"+str(len(g1))+\" letter word.\\nYou have \"+str(chance)+\" chances left.\")#telling user the number of chances left\n",
    "        r = input(\"Guess a letter of the capital of \"+c1+\".\\n(type 'skip' to skip): \").upper()  #userinput\n",
    "        if(r in C2):                                                           #if user's guess is right\n",
    "            print(\"Your guess is correct.\")\n",
    "            for i in range(len(C2)):\n",
    "                if C2[i]==r:\n",
    "                    g1[i]=r                                 #creating new dashed line replacing revealed letters \n",
    "                    if \"_ \" not in g1:                      #winning condition\n",
    "                        print(\"Hurray!! You have won.\\nThe right answer is \"+c2+\".\")\n",
    "                        chance=0                            #breaking while loop\n",
    "        elif r==\"SKIP\":                                     #skipping option\n",
    "            chance=0                                        #breaking while loop                                       \n",
    "            print(\"You've skipped the game.\")\n",
    "        else:                                               #if user's guess is wrong\n",
    "            chance=chance-1                                 #lessening chance\n",
    "            print(\"Sorry! this guess is wrong.\")            \n",
    "            if chance==0:                                   #defeat condition and breaking while loop\n",
    "                print(\"You LOST.\\nThe answer is \"+c2+\".\\n|------- \\n|   |\\n|  \\o/\\n|   |\\n|  / \\ \\n|_______ \\n|_______|\")\n",
    "        \n",
    "        \n",
    "    \n",
    "hangman()"
   ]
  },
  {
   "cell_type": "code",
   "execution_count": 4,
   "metadata": {},
   "outputs": [
    {
     "name": "stdout",
     "output_type": "stream",
     "text": [
      " _ _ _ _ _ _ _ \n",
      "The capital is a 7 letter word.\n",
      "You have 3.0 chances left.\n",
      "Guess a letter of the capital of THAILAND.\n",
      "(type 'skip' to skip): n\n",
      "Your guess is correct.\n",
      " _ _ N_ _ _ _ \n",
      "The capital is a 7 letter word.\n",
      "You have 3.0 chances left.\n",
      "Guess a letter of the capital of THAILAND.\n",
      "(type 'skip' to skip): k\n",
      "Your guess is correct.\n",
      " _ _ N_ K_ K\n",
      "The capital is a 7 letter word.\n",
      "You have 3.0 chances left.\n",
      "Guess a letter of the capital of THAILAND.\n",
      "(type 'skip' to skip): b\n",
      "Your guess is correct.\n",
      " B_ N_ K_ K\n",
      "The capital is a 7 letter word.\n",
      "You have 3.0 chances left.\n",
      "Guess a letter of the capital of THAILAND.\n",
      "(type 'skip' to skip): a\n",
      "Your guess is correct.\n",
      " BAN_ K_ K\n",
      "The capital is a 7 letter word.\n",
      "You have 3.0 chances left.\n",
      "Guess a letter of the capital of THAILAND.\n",
      "(type 'skip' to skip): n\n",
      "Your guess is correct.\n",
      " BAN_ K_ K\n",
      "The capital is a 7 letter word.\n",
      "You have 3.0 chances left.\n",
      "Guess a letter of the capital of THAILAND.\n",
      "(type 'skip' to skip): k\n",
      "Your guess is correct.\n",
      " BAN_ K_ K\n",
      "The capital is a 7 letter word.\n",
      "You have 3.0 chances left.\n",
      "Guess a letter of the capital of THAILAND.\n",
      "(type 'skip' to skip): o\n",
      "Your guess is correct.\n",
      " BAN_ KOK\n",
      "The capital is a 7 letter word.\n",
      "You have 3.0 chances left.\n",
      "Guess a letter of the capital of THAILAND.\n",
      "(type 'skip' to skip): g\n",
      "Your guess is correct.\n",
      "Hurray!! You have won.\n",
      "The right answer is BANGKOK.\n"
     ]
    }
   ],
   "source": [
    "hangman()"
   ]
  },
  {
   "cell_type": "code",
   "execution_count": 5,
   "metadata": {},
   "outputs": [
    {
     "name": "stdout",
     "output_type": "stream",
     "text": [
      " _ _ _ _ _ _ _ _ _ \n",
      "The capital is a 9 letter word.\n",
      "You have 4.0 chances left.\n",
      "Guess a letter of the capital of SLOVENIA .\n",
      "(type 'skip' to skip): s\n",
      "Sorry! this guess is wrong.\n",
      " _ _ _ _ _ _ _ _ _ \n",
      "The capital is a 9 letter word.\n",
      "You have 3.0 chances left.\n",
      "Guess a letter of the capital of SLOVENIA .\n",
      "(type 'skip' to skip): k\n",
      "Sorry! this guess is wrong.\n",
      " _ _ _ _ _ _ _ _ _ \n",
      "The capital is a 9 letter word.\n",
      "You have 2.0 chances left.\n",
      "Guess a letter of the capital of SLOVENIA .\n",
      "(type 'skip' to skip): r\n",
      "Sorry! this guess is wrong.\n",
      " _ _ _ _ _ _ _ _ _ \n",
      "The capital is a 9 letter word.\n",
      "You have 1.0 chances left.\n",
      "Guess a letter of the capital of SLOVENIA .\n",
      "(type 'skip' to skip): b\n",
      "Your guess is correct.\n",
      " _ _ _ B_ _ _ _ _ \n",
      "The capital is a 9 letter word.\n",
      "You have 1.0 chances left.\n",
      "Guess a letter of the capital of SLOVENIA .\n",
      "(type 'skip' to skip): a\n",
      "Your guess is correct.\n",
      " _ _ _ B_ _ A_ A\n",
      "The capital is a 9 letter word.\n",
      "You have 1.0 chances left.\n",
      "Guess a letter of the capital of SLOVENIA .\n",
      "(type 'skip' to skip): t\n",
      "Sorry! this guess is wrong.\n",
      "You LOST.\n",
      "The answer is LJUBLJANA.\n",
      "|------- \n",
      "|   |\n",
      "|  \\o/\n",
      "|   |\n",
      "|  / \\ \n",
      "|_______ \n",
      "|_______|\n"
     ]
    }
   ],
   "source": [
    "hangman()"
   ]
  },
  {
   "cell_type": "code",
   "execution_count": 6,
   "metadata": {},
   "outputs": [
    {
     "name": "stdout",
     "output_type": "stream",
     "text": [
      " _ _ _ _ _ _ _ _ \n",
      "The capital is a 8 letter word.\n",
      "You have 3.0 chances left.\n",
      "Guess a letter of the capital of JAMAICA .\n",
      "(type 'skip' to skip): j\n",
      "Sorry! this guess is wrong.\n",
      " _ _ _ _ _ _ _ _ \n",
      "The capital is a 8 letter word.\n",
      "You have 2.0 chances left.\n",
      "Guess a letter of the capital of JAMAICA .\n",
      "(type 'skip' to skip): d\n",
      "Sorry! this guess is wrong.\n",
      " _ _ _ _ _ _ _ _ \n",
      "The capital is a 8 letter word.\n",
      "You have 1.0 chances left.\n",
      "Guess a letter of the capital of JAMAICA .\n",
      "(type 'skip' to skip): u\n",
      "Sorry! this guess is wrong.\n",
      "You LOST.\n",
      "The answer is KINGSTON.\n",
      "|------- \n",
      "|   |\n",
      "|  \\o/\n",
      "|   |\n",
      "|  / \\ \n",
      "|_______ \n",
      "|_______|\n"
     ]
    }
   ],
   "source": [
    "hangman()"
   ]
  },
  {
   "cell_type": "code",
   "execution_count": 7,
   "metadata": {},
   "outputs": [
    {
     "name": "stdout",
     "output_type": "stream",
     "text": [
      " _ _ _ _ _ _ _ _ _ _ \n",
      "The capital is a 10 letter word.\n",
      "You have 4.0 chances left.\n",
      "Guess a letter of the capital of URUGUAY .\n",
      "(type 'skip' to skip): skip\n",
      "You've skipped the game.\n"
     ]
    }
   ],
   "source": [
    "hangman()"
   ]
  },
  {
   "cell_type": "code",
   "execution_count": null,
   "metadata": {},
   "outputs": [],
   "source": []
  }
 ],
 "metadata": {
  "kernelspec": {
   "display_name": "Python 3",
   "language": "python",
   "name": "python3"
  },
  "language_info": {
   "codemirror_mode": {
    "name": "ipython",
    "version": 3
   },
   "file_extension": ".py",
   "mimetype": "text/x-python",
   "name": "python",
   "nbconvert_exporter": "python",
   "pygments_lexer": "ipython3",
   "version": "3.7.6"
  }
 },
 "nbformat": 4,
 "nbformat_minor": 4
}
