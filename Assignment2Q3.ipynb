{
 "cells": [
  {
   "cell_type": "code",
   "execution_count": 6,
   "metadata": {},
   "outputs": [
    {
     "name": "stdout",
     "output_type": "stream",
     "text": [
      "6.65\n",
      "8.32\n"
     ]
    }
   ],
   "source": [
    "#Find the average distance between two points on a straight line made of N discrete points.\n",
    "def AvgDist(n):          #take a parameter n,Number of discrete points\n",
    "    k=0\n",
    "    for i in range(n):\n",
    "        for j in range(n):\n",
    "            p=abs(i-j)\n",
    "            k=k+p\n",
    "            l=k/n**2\n",
    "    return(l)             # returns average distance\n",
    "print(AvgDist(20))\n",
    "print(AvgDist(25))"
   ]
  },
  {
   "cell_type": "code",
   "execution_count": null,
   "metadata": {},
   "outputs": [],
   "source": []
  }
 ],
 "metadata": {
  "kernelspec": {
   "display_name": "Python 3",
   "language": "python",
   "name": "python3"
  },
  "language_info": {
   "codemirror_mode": {
    "name": "ipython",
    "version": 3
   },
   "file_extension": ".py",
   "mimetype": "text/x-python",
   "name": "python",
   "nbconvert_exporter": "python",
   "pygments_lexer": "ipython3",
   "version": "3.7.6"
  }
 },
 "nbformat": 4,
 "nbformat_minor": 4
}
